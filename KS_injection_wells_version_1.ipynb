{
 "cells": [
  {
   "cell_type": "markdown",
   "metadata": {},
   "source": [
    "# Kansas Injection Well Data"
   ]
  },
  {
   "cell_type": "code",
   "execution_count": 1,
   "metadata": {},
   "outputs": [],
   "source": [
    "import pandas as pd\n",
    "import matplotlib.pyplot as plt\n",
    "%matplotlib inline\n",
    "import numpy as np\n",
    "import os\n",
    "\n",
    "inj_datadir = './sources/'\n",
    "outdir = './out/'"
   ]
  },
  {
   "cell_type": "markdown",
   "metadata": {},
   "source": [
    "## Using previous FracTracker formats as a template"
   ]
  },
  {
   "cell_type": "markdown",
   "metadata": {},
   "source": [
    "Quantity reported is \"FLUID_INJECTED\" from the original Kansas data files.  There are ~500 \"GAS_INJECTED\" records that are not incorportated here...."
   ]
  },
  {
   "cell_type": "code",
   "execution_count": 2,
   "metadata": {},
   "outputs": [],
   "source": [
    "def fetch_raw_KS_injection(indir=inj_datadir):\n",
    "    # it is assumed that all files in the directory are\n",
    "    # to be processed.\n",
    "    flist = os.listdir(indir)\n",
    "    if len(flist)<1 :\n",
    "        raise Exception('No files to process!')\n",
    "    for f in flist:\n",
    "        if f[-4:] != '.txt':\n",
    "            raise Exception('Some non-txt files present in input directory')\n",
    "    dlst = []\n",
    "    for fn in flist:\n",
    "        print(f'Processing: {fn}')\n",
    "        d = pd.read_csv(indir+fn,low_memory=False)\n",
    "        d = d.filter(['API','KGS_ID','YEAR','MONTH','FLUID_INJECTED']) # drop most columns\n",
    "        dlst.append(d)\n",
    "        print(f'    length of data from this file: {len(d)}') \n",
    "    df_inj = pd.concat(dlst,sort=True)\n",
    "    print(f'Total length of dataframe: {len(df_inj)}')\n",
    "    return df_inj\n"
   ]
  },
  {
   "cell_type": "code",
   "execution_count": 3,
   "metadata": {},
   "outputs": [
    {
     "name": "stdout",
     "output_type": "stream",
     "text": [
      "Processing: KS_UIC_archive.txt\n",
      "    length of data from this file: 597856\n",
      "Processing: KS_UIC_archive2016.txt\n",
      "    length of data from this file: 197674\n",
      "Processing: KS_UIC_archive2017.txt\n",
      "    length of data from this file: 194857\n",
      "Total length of dataframe: 990387\n"
     ]
    }
   ],
   "source": [
    "d = fetch_raw_KS_injection()"
   ]
  },
  {
   "cell_type": "code",
   "execution_count": 4,
   "metadata": {},
   "outputs": [
    {
     "name": "stdout",
     "output_type": "stream",
     "text": [
      "<class 'pandas.core.frame.DataFrame'>\n",
      "Int64Index: 990387 entries, 0 to 194856\n",
      "Data columns (total 5 columns):\n",
      "API               990307 non-null object\n",
      "FLUID_INJECTED    990387 non-null int64\n",
      "KGS_ID            990387 non-null int64\n",
      "MONTH             990387 non-null int64\n",
      "YEAR              990387 non-null int64\n",
      "dtypes: int64(4), object(1)\n",
      "memory usage: 45.3+ MB\n"
     ]
    }
   ],
   "source": [
    "d.info()"
   ]
  },
  {
   "cell_type": "markdown",
   "metadata": {},
   "source": [
    "Create string to label the period"
   ]
  },
  {
   "cell_type": "code",
   "execution_count": 5,
   "metadata": {},
   "outputs": [
    {
     "data": {
      "text/html": [
       "<div>\n",
       "<style scoped>\n",
       "    .dataframe tbody tr th:only-of-type {\n",
       "        vertical-align: middle;\n",
       "    }\n",
       "\n",
       "    .dataframe tbody tr th {\n",
       "        vertical-align: top;\n",
       "    }\n",
       "\n",
       "    .dataframe thead th {\n",
       "        text-align: right;\n",
       "    }\n",
       "</style>\n",
       "<table border=\"1\" class=\"dataframe\">\n",
       "  <thead>\n",
       "    <tr style=\"text-align: right;\">\n",
       "      <th></th>\n",
       "      <th>API</th>\n",
       "      <th>FLUID_INJECTED</th>\n",
       "      <th>KGS_ID</th>\n",
       "      <th>MONTH</th>\n",
       "      <th>YEAR</th>\n",
       "      <th>YearMo</th>\n",
       "    </tr>\n",
       "  </thead>\n",
       "  <tbody>\n",
       "    <tr>\n",
       "      <th>0</th>\n",
       "      <td>15-003-21733-0001</td>\n",
       "      <td>1300</td>\n",
       "      <td>1042538729</td>\n",
       "      <td>1</td>\n",
       "      <td>2016</td>\n",
       "      <td>Y2016M01</td>\n",
       "    </tr>\n",
       "    <tr>\n",
       "      <th>1</th>\n",
       "      <td>15-003-21733-0001</td>\n",
       "      <td>1375</td>\n",
       "      <td>1042538729</td>\n",
       "      <td>2</td>\n",
       "      <td>2016</td>\n",
       "      <td>Y2016M02</td>\n",
       "    </tr>\n",
       "    <tr>\n",
       "      <th>2</th>\n",
       "      <td>15-003-21733-0001</td>\n",
       "      <td>1410</td>\n",
       "      <td>1042538729</td>\n",
       "      <td>3</td>\n",
       "      <td>2016</td>\n",
       "      <td>Y2016M03</td>\n",
       "    </tr>\n",
       "    <tr>\n",
       "      <th>3</th>\n",
       "      <td>15-003-21733-0001</td>\n",
       "      <td>1350</td>\n",
       "      <td>1042538729</td>\n",
       "      <td>4</td>\n",
       "      <td>2016</td>\n",
       "      <td>Y2016M04</td>\n",
       "    </tr>\n",
       "    <tr>\n",
       "      <th>4</th>\n",
       "      <td>15-003-21733-0001</td>\n",
       "      <td>1295</td>\n",
       "      <td>1042538729</td>\n",
       "      <td>5</td>\n",
       "      <td>2016</td>\n",
       "      <td>Y2016M05</td>\n",
       "    </tr>\n",
       "  </tbody>\n",
       "</table>\n",
       "</div>"
      ],
      "text/plain": [
       "                 API  FLUID_INJECTED      KGS_ID  MONTH  YEAR    YearMo\n",
       "0  15-003-21733-0001            1300  1042538729      1  2016  Y2016M01\n",
       "1  15-003-21733-0001            1375  1042538729      2  2016  Y2016M02\n",
       "2  15-003-21733-0001            1410  1042538729      3  2016  Y2016M03\n",
       "3  15-003-21733-0001            1350  1042538729      4  2016  Y2016M04\n",
       "4  15-003-21733-0001            1295  1042538729      5  2016  Y2016M05"
      ]
     },
     "execution_count": 5,
     "metadata": {},
     "output_type": "execute_result"
    }
   ],
   "source": [
    "d['YearMo'] = 'Y' + d.YEAR.astype('str').str[:] + 'M' + d.MONTH.astype('str').str.zfill(2)[:]\n",
    "d.head()"
   ]
  },
  {
   "cell_type": "code",
   "execution_count": 6,
   "metadata": {},
   "outputs": [
    {
     "name": "stdout",
     "output_type": "stream",
     "text": [
      "25424\n",
      "25387\n"
     ]
    }
   ],
   "source": [
    "print(len(d.KGS_ID.unique()))\n",
    "print(len(d.API.unique()))"
   ]
  },
  {
   "cell_type": "markdown",
   "metadata": {},
   "source": [
    "**NOTE: There are more KGS_IDs than API numbers.  So some wells are labeled with 1 API# but more than one KGS_ID.  When compiling these data, we will keep only the first KGS_ID.**"
   ]
  },
  {
   "cell_type": "code",
   "execution_count": 7,
   "metadata": {},
   "outputs": [
    {
     "data": {
      "text/html": [
       "<div>\n",
       "<style scoped>\n",
       "    .dataframe tbody tr th:only-of-type {\n",
       "        vertical-align: middle;\n",
       "    }\n",
       "\n",
       "    .dataframe tbody tr th {\n",
       "        vertical-align: top;\n",
       "    }\n",
       "\n",
       "    .dataframe thead th {\n",
       "        text-align: right;\n",
       "    }\n",
       "</style>\n",
       "<table border=\"1\" class=\"dataframe\">\n",
       "  <thead>\n",
       "    <tr style=\"text-align: right;\">\n",
       "      <th></th>\n",
       "      <th>API</th>\n",
       "      <th>KGS_ID</th>\n",
       "    </tr>\n",
       "  </thead>\n",
       "  <tbody>\n",
       "    <tr>\n",
       "      <th>0</th>\n",
       "      <td>15-001-01023-0001</td>\n",
       "      <td>1041771184</td>\n",
       "    </tr>\n",
       "    <tr>\n",
       "      <th>1</th>\n",
       "      <td>15-001-01024-0001</td>\n",
       "      <td>1041771204</td>\n",
       "    </tr>\n",
       "    <tr>\n",
       "      <th>2</th>\n",
       "      <td>15-001-01025-0001</td>\n",
       "      <td>1041103386</td>\n",
       "    </tr>\n",
       "    <tr>\n",
       "      <th>3</th>\n",
       "      <td>15-001-01027-0001</td>\n",
       "      <td>1041771629</td>\n",
       "    </tr>\n",
       "    <tr>\n",
       "      <th>4</th>\n",
       "      <td>15-001-01332</td>\n",
       "      <td>1005454437</td>\n",
       "    </tr>\n",
       "  </tbody>\n",
       "</table>\n",
       "</div>"
      ],
      "text/plain": [
       "                 API      KGS_ID\n",
       "0  15-001-01023-0001  1041771184\n",
       "1  15-001-01024-0001  1041771204\n",
       "2  15-001-01025-0001  1041103386\n",
       "3  15-001-01027-0001  1041771629\n",
       "4       15-001-01332  1005454437"
      ]
     },
     "execution_count": 7,
     "metadata": {},
     "output_type": "execute_result"
    }
   ],
   "source": [
    "kgs = pd.DataFrame(d.groupby(['API'],as_index=False)['KGS_ID'].first())\n",
    "kgs.head()"
   ]
  },
  {
   "cell_type": "markdown",
   "metadata": {},
   "source": [
    "Although in the groupby below, there should only be a single number (one measure for any Year/Mo combination), some wells apparently have more than a single record:"
   ]
  },
  {
   "cell_type": "code",
   "execution_count": 8,
   "metadata": {},
   "outputs": [
    {
     "data": {
      "text/plain": [
       "array([1, 2, 3, 4, 5, 6, 8], dtype=int64)"
      ]
     },
     "execution_count": 8,
     "metadata": {},
     "output_type": "execute_result"
    }
   ],
   "source": [
    "test = d.groupby(['YearMo','API'],as_index=False)['FLUID_INJECTED'].count()\n",
    "test.FLUID_INJECTED.unique()"
   ]
  },
  {
   "cell_type": "markdown",
   "metadata": {},
   "source": [
    "So we will treat them as partial measures and add all records for a given period."
   ]
  },
  {
   "cell_type": "code",
   "execution_count": 9,
   "metadata": {},
   "outputs": [
    {
     "data": {
      "text/html": [
       "<div>\n",
       "<style scoped>\n",
       "    .dataframe tbody tr th:only-of-type {\n",
       "        vertical-align: middle;\n",
       "    }\n",
       "\n",
       "    .dataframe tbody tr th {\n",
       "        vertical-align: top;\n",
       "    }\n",
       "\n",
       "    .dataframe thead th {\n",
       "        text-align: right;\n",
       "    }\n",
       "</style>\n",
       "<table border=\"1\" class=\"dataframe\">\n",
       "  <thead>\n",
       "    <tr style=\"text-align: right;\">\n",
       "      <th>YearMo</th>\n",
       "      <th>Y1910M00</th>\n",
       "      <th>Y1912M00</th>\n",
       "      <th>Y1918M00</th>\n",
       "      <th>Y1921M00</th>\n",
       "      <th>Y1922M00</th>\n",
       "      <th>Y1928M00</th>\n",
       "      <th>Y1977M00</th>\n",
       "      <th>Y1981M00</th>\n",
       "      <th>Y1982M00</th>\n",
       "      <th>Y1983M00</th>\n",
       "      <th>...</th>\n",
       "      <th>Y2017M03</th>\n",
       "      <th>Y2017M04</th>\n",
       "      <th>Y2017M05</th>\n",
       "      <th>Y2017M06</th>\n",
       "      <th>Y2017M07</th>\n",
       "      <th>Y2017M08</th>\n",
       "      <th>Y2017M09</th>\n",
       "      <th>Y2017M10</th>\n",
       "      <th>Y2017M11</th>\n",
       "      <th>Y2017M12</th>\n",
       "    </tr>\n",
       "    <tr>\n",
       "      <th>API</th>\n",
       "      <th></th>\n",
       "      <th></th>\n",
       "      <th></th>\n",
       "      <th></th>\n",
       "      <th></th>\n",
       "      <th></th>\n",
       "      <th></th>\n",
       "      <th></th>\n",
       "      <th></th>\n",
       "      <th></th>\n",
       "      <th></th>\n",
       "      <th></th>\n",
       "      <th></th>\n",
       "      <th></th>\n",
       "      <th></th>\n",
       "      <th></th>\n",
       "      <th></th>\n",
       "      <th></th>\n",
       "      <th></th>\n",
       "      <th></th>\n",
       "      <th></th>\n",
       "    </tr>\n",
       "  </thead>\n",
       "  <tbody>\n",
       "    <tr>\n",
       "      <th>15-001-01023-0001</th>\n",
       "      <td>NaN</td>\n",
       "      <td>NaN</td>\n",
       "      <td>NaN</td>\n",
       "      <td>NaN</td>\n",
       "      <td>NaN</td>\n",
       "      <td>NaN</td>\n",
       "      <td>NaN</td>\n",
       "      <td>NaN</td>\n",
       "      <td>NaN</td>\n",
       "      <td>NaN</td>\n",
       "      <td>...</td>\n",
       "      <td>NaN</td>\n",
       "      <td>NaN</td>\n",
       "      <td>NaN</td>\n",
       "      <td>NaN</td>\n",
       "      <td>NaN</td>\n",
       "      <td>NaN</td>\n",
       "      <td>NaN</td>\n",
       "      <td>NaN</td>\n",
       "      <td>NaN</td>\n",
       "      <td>NaN</td>\n",
       "    </tr>\n",
       "    <tr>\n",
       "      <th>15-001-01024-0001</th>\n",
       "      <td>NaN</td>\n",
       "      <td>NaN</td>\n",
       "      <td>NaN</td>\n",
       "      <td>NaN</td>\n",
       "      <td>NaN</td>\n",
       "      <td>NaN</td>\n",
       "      <td>NaN</td>\n",
       "      <td>NaN</td>\n",
       "      <td>NaN</td>\n",
       "      <td>NaN</td>\n",
       "      <td>...</td>\n",
       "      <td>NaN</td>\n",
       "      <td>NaN</td>\n",
       "      <td>NaN</td>\n",
       "      <td>NaN</td>\n",
       "      <td>NaN</td>\n",
       "      <td>NaN</td>\n",
       "      <td>NaN</td>\n",
       "      <td>NaN</td>\n",
       "      <td>NaN</td>\n",
       "      <td>NaN</td>\n",
       "    </tr>\n",
       "    <tr>\n",
       "      <th>15-001-01025-0001</th>\n",
       "      <td>NaN</td>\n",
       "      <td>NaN</td>\n",
       "      <td>NaN</td>\n",
       "      <td>NaN</td>\n",
       "      <td>NaN</td>\n",
       "      <td>NaN</td>\n",
       "      <td>NaN</td>\n",
       "      <td>NaN</td>\n",
       "      <td>NaN</td>\n",
       "      <td>NaN</td>\n",
       "      <td>...</td>\n",
       "      <td>0.0</td>\n",
       "      <td>0.0</td>\n",
       "      <td>0.0</td>\n",
       "      <td>0.0</td>\n",
       "      <td>0.0</td>\n",
       "      <td>0.0</td>\n",
       "      <td>0.0</td>\n",
       "      <td>0.0</td>\n",
       "      <td>0.0</td>\n",
       "      <td>0.0</td>\n",
       "    </tr>\n",
       "    <tr>\n",
       "      <th>15-001-01027-0001</th>\n",
       "      <td>NaN</td>\n",
       "      <td>NaN</td>\n",
       "      <td>NaN</td>\n",
       "      <td>NaN</td>\n",
       "      <td>NaN</td>\n",
       "      <td>NaN</td>\n",
       "      <td>NaN</td>\n",
       "      <td>NaN</td>\n",
       "      <td>NaN</td>\n",
       "      <td>NaN</td>\n",
       "      <td>...</td>\n",
       "      <td>83256.0</td>\n",
       "      <td>81254.0</td>\n",
       "      <td>30982.0</td>\n",
       "      <td>75894.0</td>\n",
       "      <td>39412.0</td>\n",
       "      <td>73293.0</td>\n",
       "      <td>87850.0</td>\n",
       "      <td>41367.0</td>\n",
       "      <td>102965.0</td>\n",
       "      <td>111937.0</td>\n",
       "    </tr>\n",
       "    <tr>\n",
       "      <th>15-001-01332</th>\n",
       "      <td>NaN</td>\n",
       "      <td>NaN</td>\n",
       "      <td>NaN</td>\n",
       "      <td>NaN</td>\n",
       "      <td>NaN</td>\n",
       "      <td>NaN</td>\n",
       "      <td>NaN</td>\n",
       "      <td>NaN</td>\n",
       "      <td>NaN</td>\n",
       "      <td>NaN</td>\n",
       "      <td>...</td>\n",
       "      <td>NaN</td>\n",
       "      <td>NaN</td>\n",
       "      <td>NaN</td>\n",
       "      <td>NaN</td>\n",
       "      <td>NaN</td>\n",
       "      <td>NaN</td>\n",
       "      <td>NaN</td>\n",
       "      <td>NaN</td>\n",
       "      <td>NaN</td>\n",
       "      <td>NaN</td>\n",
       "    </tr>\n",
       "  </tbody>\n",
       "</table>\n",
       "<p>5 rows × 128 columns</p>\n",
       "</div>"
      ],
      "text/plain": [
       "YearMo             Y1910M00  Y1912M00  Y1918M00  Y1921M00  Y1922M00  Y1928M00  \\\n",
       "API                                                                             \n",
       "15-001-01023-0001       NaN       NaN       NaN       NaN       NaN       NaN   \n",
       "15-001-01024-0001       NaN       NaN       NaN       NaN       NaN       NaN   \n",
       "15-001-01025-0001       NaN       NaN       NaN       NaN       NaN       NaN   \n",
       "15-001-01027-0001       NaN       NaN       NaN       NaN       NaN       NaN   \n",
       "15-001-01332            NaN       NaN       NaN       NaN       NaN       NaN   \n",
       "\n",
       "YearMo             Y1977M00  Y1981M00  Y1982M00  Y1983M00    ...     Y2017M03  \\\n",
       "API                                                          ...                \n",
       "15-001-01023-0001       NaN       NaN       NaN       NaN    ...          NaN   \n",
       "15-001-01024-0001       NaN       NaN       NaN       NaN    ...          NaN   \n",
       "15-001-01025-0001       NaN       NaN       NaN       NaN    ...          0.0   \n",
       "15-001-01027-0001       NaN       NaN       NaN       NaN    ...      83256.0   \n",
       "15-001-01332            NaN       NaN       NaN       NaN    ...          NaN   \n",
       "\n",
       "YearMo             Y2017M04  Y2017M05  Y2017M06  Y2017M07  Y2017M08  Y2017M09  \\\n",
       "API                                                                             \n",
       "15-001-01023-0001       NaN       NaN       NaN       NaN       NaN       NaN   \n",
       "15-001-01024-0001       NaN       NaN       NaN       NaN       NaN       NaN   \n",
       "15-001-01025-0001       0.0       0.0       0.0       0.0       0.0       0.0   \n",
       "15-001-01027-0001   81254.0   30982.0   75894.0   39412.0   73293.0   87850.0   \n",
       "15-001-01332            NaN       NaN       NaN       NaN       NaN       NaN   \n",
       "\n",
       "YearMo             Y2017M10  Y2017M11  Y2017M12  \n",
       "API                                              \n",
       "15-001-01023-0001       NaN       NaN       NaN  \n",
       "15-001-01024-0001       NaN       NaN       NaN  \n",
       "15-001-01025-0001       0.0       0.0       0.0  \n",
       "15-001-01027-0001   41367.0  102965.0  111937.0  \n",
       "15-001-01332            NaN       NaN       NaN  \n",
       "\n",
       "[5 rows x 128 columns]"
      ]
     },
     "execution_count": 9,
     "metadata": {},
     "output_type": "execute_result"
    }
   ],
   "source": [
    "gb = d.groupby(['API','YearMo'],as_index=False)['FLUID_INJECTED'].sum()\n",
    "gb.head()\n",
    "Pivot =gb.pivot(index='API',columns='YearMo')\n",
    "Pivot.columns = Pivot.columns.get_level_values(1) # snags YearMo as the column name\n",
    "\n",
    "Pivot.head()"
   ]
  },
  {
   "cell_type": "markdown",
   "metadata": {},
   "source": [
    "Get the KGS_ID back in there..."
   ]
  },
  {
   "cell_type": "code",
   "execution_count": 10,
   "metadata": {},
   "outputs": [
    {
     "name": "stdout",
     "output_type": "stream",
     "text": [
      "<class 'pandas.core.frame.DataFrame'>\n",
      "Int64Index: 25386 entries, 0 to 25385\n",
      "Columns: 130 entries, API to Y2017M12\n",
      "dtypes: float64(128), int64(1), object(1)\n",
      "memory usage: 25.4+ MB\n"
     ]
    }
   ],
   "source": [
    "mg = pd.merge(kgs,Pivot,on='API',validate='1:m',how='right')\n",
    "mg.info()"
   ]
  },
  {
   "cell_type": "markdown",
   "metadata": {},
   "source": [
    "## save the file"
   ]
  },
  {
   "cell_type": "code",
   "execution_count": 12,
   "metadata": {},
   "outputs": [
    {
     "name": "stdout",
     "output_type": "stream",
     "text": [
      "./out/KS_Injection_thru_Y2017M12.csv\n"
     ]
    }
   ],
   "source": [
    "last = d.YearMo.max()\n",
    "fn = outdir+'KS_Injection_thru_'+last+'.csv'\n",
    "mg.to_csv(fn)\n",
    "print(fn)"
   ]
  },
  {
   "cell_type": "markdown",
   "metadata": {},
   "source": [
    "## NOTES:\n",
    "- Columns with a month = 0 seem to be annual records; monthly ones start in 2011.\n",
    "- Even though there are monthly records after that, there is a remarkable regularity in the numbers both within a well and across wells that suggests that there is after-the-fact splitting of numbers to spread across the months and wells.\n",
    "- Of the 25000 wells in this set, many wells have no injections (at least of Fluid...): over 10000 wells.  The same was true for the 2016 report.\n",
    "- The cells for which no report was made have been kept blank and not made '0' to allow inspection of the cells that were intentionally made zero."
   ]
  },
  {
   "cell_type": "code",
   "execution_count": 13,
   "metadata": {},
   "outputs": [
    {
     "data": {
      "text/plain": [
       "FLUID_INJECTED    10026\n",
       "dtype: int64"
      ]
     },
     "execution_count": 13,
     "metadata": {},
     "output_type": "execute_result"
    }
   ],
   "source": [
    "t = pd.DataFrame(d.groupby('API')['FLUID_INJECTED'].sum())\n",
    "t[t.FLUID_INJECTED==0].count()"
   ]
  }
 ],
 "metadata": {
  "kernelspec": {
   "display_name": "Python 3",
   "language": "python",
   "name": "python3"
  },
  "language_info": {
   "codemirror_mode": {
    "name": "ipython",
    "version": 3
   },
   "file_extension": ".py",
   "mimetype": "text/x-python",
   "name": "python",
   "nbconvert_exporter": "python",
   "pygments_lexer": "ipython3",
   "version": "3.7.5"
  },
  "toc": {
   "base_numbering": 1,
   "nav_menu": {},
   "number_sections": true,
   "sideBar": true,
   "skip_h1_title": false,
   "title_cell": "Table of Contents",
   "title_sidebar": "Contents",
   "toc_cell": false,
   "toc_position": {},
   "toc_section_display": true,
   "toc_window_display": false
  }
 },
 "nbformat": 4,
 "nbformat_minor": 2
}
